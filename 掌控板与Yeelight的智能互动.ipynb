{
 "cells": [
  {
   "cell_type": "code",
   "execution_count": 1,
   "metadata": {},
   "outputs": [
    {
     "name": "stdout",
     "output_type": "stream",
     "text": [
      "发现0个LED设备\n",
      "[]\n"
     ]
    }
   ],
   "source": [
    "#01 寻找设备(未能找到，是不是掌控板上的yeelight库的问题)\n",
    "from yeelight import discover_bulbs\n",
    "ledlist=discover_bulbs()\n",
    "#ledlist的数据类型为列表\n",
    "print(\"发现%d个LED设备\"%len(ledlist))\n",
    "print(ledlist)\n",
    "\n",
    "\n"
   ]
  },
  {
   "cell_type": "code",
   "execution_count": 2,
   "metadata": {},
   "outputs": [
    {
     "name": "stdout",
     "output_type": "stream",
     "text": [
      "192.168.31.127\n"
     ]
    }
   ],
   "source": [
    "#提供寻找IP地址的多种方法\n",
    "#(1)python命令\n",
    "from yeelight import discover_bulbs\n",
    "ledlist=discover_bulbs()\n",
    "#ledlist的数据类型为列表，列表中每一项是字典\n",
    "#输出所有的设备的ip对应的值：\n",
    "for i in ledlist:\n",
    "\tprint(i[(\"ip\")])"
   ]
  },
  {
   "cell_type": "code",
   "execution_count": 3,
   "metadata": {},
   "outputs": [
    {
     "ename": "BulbException",
     "evalue": "A socket error occurred when sending the command.",
     "output_type": "error",
     "traceback": [
      "\u001b[1;31m---------------------------------------------------------------------------\u001b[0m",
      "\u001b[1;31mtimeout\u001b[0m                                   Traceback (most recent call last)",
      "\u001b[1;32me:\\python\\lib\\site-packages\\yeelight\\main.py\u001b[0m in \u001b[0;36msend_command\u001b[1;34m(self, method, params)\u001b[0m\n\u001b[0;32m    389\u001b[0m         \u001b[1;32mtry\u001b[0m\u001b[1;33m:\u001b[0m\u001b[1;33m\u001b[0m\u001b[0m\n\u001b[1;32m--> 390\u001b[1;33m             \u001b[0mself\u001b[0m\u001b[1;33m.\u001b[0m\u001b[0m_socket\u001b[0m\u001b[1;33m.\u001b[0m\u001b[0msend\u001b[0m\u001b[1;33m(\u001b[0m\u001b[1;33m(\u001b[0m\u001b[0mjson\u001b[0m\u001b[1;33m.\u001b[0m\u001b[0mdumps\u001b[0m\u001b[1;33m(\u001b[0m\u001b[0mcommand\u001b[0m\u001b[1;33m)\u001b[0m \u001b[1;33m+\u001b[0m \u001b[1;34m\"\\r\\n\"\u001b[0m\u001b[1;33m)\u001b[0m\u001b[1;33m.\u001b[0m\u001b[0mencode\u001b[0m\u001b[1;33m(\u001b[0m\u001b[1;34m\"utf8\"\u001b[0m\u001b[1;33m)\u001b[0m\u001b[1;33m)\u001b[0m\u001b[1;33m\u001b[0m\u001b[0m\n\u001b[0m\u001b[0;32m    391\u001b[0m         \u001b[1;32mexcept\u001b[0m \u001b[0msocket\u001b[0m\u001b[1;33m.\u001b[0m\u001b[0merror\u001b[0m \u001b[1;32mas\u001b[0m \u001b[0mex\u001b[0m\u001b[1;33m:\u001b[0m\u001b[1;33m\u001b[0m\u001b[0m\n",
      "\u001b[1;32me:\\python\\lib\\site-packages\\yeelight\\main.py\u001b[0m in \u001b[0;36m_socket\u001b[1;34m(self)\u001b[0m\n\u001b[0;32m    249\u001b[0m             \u001b[0mself\u001b[0m\u001b[1;33m.\u001b[0m\u001b[0m__socket\u001b[0m\u001b[1;33m.\u001b[0m\u001b[0msettimeout\u001b[0m\u001b[1;33m(\u001b[0m\u001b[1;36m5\u001b[0m\u001b[1;33m)\u001b[0m\u001b[1;33m\u001b[0m\u001b[0m\n\u001b[1;32m--> 250\u001b[1;33m             \u001b[0mself\u001b[0m\u001b[1;33m.\u001b[0m\u001b[0m__socket\u001b[0m\u001b[1;33m.\u001b[0m\u001b[0mconnect\u001b[0m\u001b[1;33m(\u001b[0m\u001b[1;33m(\u001b[0m\u001b[0mself\u001b[0m\u001b[1;33m.\u001b[0m\u001b[0m_ip\u001b[0m\u001b[1;33m,\u001b[0m \u001b[0mself\u001b[0m\u001b[1;33m.\u001b[0m\u001b[0m_port\u001b[0m\u001b[1;33m)\u001b[0m\u001b[1;33m)\u001b[0m\u001b[1;33m\u001b[0m\u001b[0m\n\u001b[0m\u001b[0;32m    251\u001b[0m         \u001b[1;32mreturn\u001b[0m \u001b[0mself\u001b[0m\u001b[1;33m.\u001b[0m\u001b[0m__socket\u001b[0m\u001b[1;33m\u001b[0m\u001b[0m\n",
      "\u001b[1;31mtimeout\u001b[0m: timed out",
      "\nThe above exception was the direct cause of the following exception:\n",
      "\u001b[1;31mBulbException\u001b[0m                             Traceback (most recent call last)",
      "\u001b[1;32m<ipython-input-3-bbeee4c86ee2>\u001b[0m in \u001b[0;36m<module>\u001b[1;34m\u001b[0m\n\u001b[0;32m      4\u001b[0m \u001b[0mbulb\u001b[0m \u001b[1;33m=\u001b[0m \u001b[0mBulb\u001b[0m\u001b[1;33m(\u001b[0m\u001b[1;34m\"192.168.31.39\"\u001b[0m\u001b[1;33m)\u001b[0m\u001b[1;33m\u001b[0m\u001b[0m\n\u001b[0;32m      5\u001b[0m \u001b[1;31m#打开灯泡\u001b[0m\u001b[1;33m\u001b[0m\u001b[1;33m\u001b[0m\u001b[0m\n\u001b[1;32m----> 6\u001b[1;33m \u001b[0mbulb\u001b[0m\u001b[1;33m.\u001b[0m\u001b[0mturn_on\u001b[0m\u001b[1;33m(\u001b[0m\u001b[1;33m)\u001b[0m\u001b[1;33m\u001b[0m\u001b[0m\n\u001b[0m\u001b[0;32m      7\u001b[0m \u001b[0mtime\u001b[0m\u001b[1;33m.\u001b[0m\u001b[0msleep\u001b[0m\u001b[1;33m(\u001b[0m\u001b[1;36m2\u001b[0m\u001b[1;33m)\u001b[0m\u001b[1;33m\u001b[0m\u001b[0m\n\u001b[0;32m      8\u001b[0m \u001b[1;31m#关闭灯泡\u001b[0m\u001b[1;33m\u001b[0m\u001b[1;33m\u001b[0m\u001b[0m\n",
      "\u001b[1;32m<decorator-gen-7>\u001b[0m in \u001b[0;36mturn_on\u001b[1;34m(self, light_type, **kwargs)\u001b[0m\n",
      "\u001b[1;32me:\\python\\lib\\site-packages\\yeelight\\main.py\u001b[0m in \u001b[0;36m_command\u001b[1;34m(f, *args, **kw)\u001b[0m\n\u001b[0;32m    109\u001b[0m             \u001b[0mparams\u001b[0m \u001b[1;33m+=\u001b[0m \u001b[1;33m[\u001b[0m\u001b[0mpower_mode\u001b[0m\u001b[1;33m.\u001b[0m\u001b[0mvalue\u001b[0m\u001b[1;33m]\u001b[0m\u001b[1;33m\u001b[0m\u001b[0m\n\u001b[0;32m    110\u001b[0m \u001b[1;33m\u001b[0m\u001b[0m\n\u001b[1;32m--> 111\u001b[1;33m     \u001b[0mresult\u001b[0m \u001b[1;33m=\u001b[0m \u001b[0mself\u001b[0m\u001b[1;33m.\u001b[0m\u001b[0msend_command\u001b[0m\u001b[1;33m(\u001b[0m\u001b[0mmethod\u001b[0m\u001b[1;33m,\u001b[0m \u001b[0mparams\u001b[0m\u001b[1;33m)\u001b[0m\u001b[1;33m.\u001b[0m\u001b[0mget\u001b[0m\u001b[1;33m(\u001b[0m\u001b[1;34m\"result\"\u001b[0m\u001b[1;33m,\u001b[0m \u001b[1;33m[\u001b[0m\u001b[1;33m]\u001b[0m\u001b[1;33m)\u001b[0m\u001b[1;33m\u001b[0m\u001b[0m\n\u001b[0m\u001b[0;32m    112\u001b[0m     \u001b[1;32mif\u001b[0m \u001b[0mresult\u001b[0m\u001b[1;33m:\u001b[0m\u001b[1;33m\u001b[0m\u001b[0m\n\u001b[0;32m    113\u001b[0m         \u001b[1;32mreturn\u001b[0m \u001b[0mresult\u001b[0m\u001b[1;33m[\u001b[0m\u001b[1;36m0\u001b[0m\u001b[1;33m]\u001b[0m\u001b[1;33m\u001b[0m\u001b[0m\n",
      "\u001b[1;32me:\\python\\lib\\site-packages\\yeelight\\main.py\u001b[0m in \u001b[0;36msend_command\u001b[1;34m(self, method, params)\u001b[0m\n\u001b[0;32m    394\u001b[0m             \u001b[0mself\u001b[0m\u001b[1;33m.\u001b[0m\u001b[0m__socket\u001b[0m\u001b[1;33m.\u001b[0m\u001b[0mclose\u001b[0m\u001b[1;33m(\u001b[0m\u001b[1;33m)\u001b[0m\u001b[1;33m\u001b[0m\u001b[0m\n\u001b[0;32m    395\u001b[0m             \u001b[0mself\u001b[0m\u001b[1;33m.\u001b[0m\u001b[0m__socket\u001b[0m \u001b[1;33m=\u001b[0m \u001b[1;32mNone\u001b[0m\u001b[1;33m\u001b[0m\u001b[0m\n\u001b[1;32m--> 396\u001b[1;33m             \u001b[0mraise_from\u001b[0m\u001b[1;33m(\u001b[0m\u001b[0mBulbException\u001b[0m\u001b[1;33m(\u001b[0m\u001b[1;34m\"A socket error occurred when sending the command.\"\u001b[0m\u001b[1;33m)\u001b[0m\u001b[1;33m,\u001b[0m \u001b[0mex\u001b[0m\u001b[1;33m)\u001b[0m\u001b[1;33m\u001b[0m\u001b[0m\n\u001b[0m\u001b[0;32m    397\u001b[0m \u001b[1;33m\u001b[0m\u001b[0m\n\u001b[0;32m    398\u001b[0m         \u001b[1;32mif\u001b[0m \u001b[0mself\u001b[0m\u001b[1;33m.\u001b[0m\u001b[0m_music_mode\u001b[0m\u001b[1;33m:\u001b[0m\u001b[1;33m\u001b[0m\u001b[0m\n",
      "\u001b[1;32me:\\python\\lib\\site-packages\\future\\utils\\__init__.py\u001b[0m in \u001b[0;36mraise_from\u001b[1;34m(exc, cause)\u001b[0m\n\u001b[0;32m    398\u001b[0m         \u001b[0mmyglobals\u001b[0m\u001b[1;33m[\u001b[0m\u001b[1;34m'__python_future_raise_from_cause'\u001b[0m\u001b[1;33m]\u001b[0m \u001b[1;33m=\u001b[0m \u001b[0mcause\u001b[0m\u001b[1;33m\u001b[0m\u001b[0m\n\u001b[0;32m    399\u001b[0m         \u001b[0mexecstr\u001b[0m \u001b[1;33m=\u001b[0m \u001b[1;34m\"raise __python_future_raise_from_exc from __python_future_raise_from_cause\"\u001b[0m\u001b[1;33m\u001b[0m\u001b[0m\n\u001b[1;32m--> 400\u001b[1;33m         \u001b[0mexec\u001b[0m\u001b[1;33m(\u001b[0m\u001b[0mexecstr\u001b[0m\u001b[1;33m,\u001b[0m \u001b[0mmyglobals\u001b[0m\u001b[1;33m,\u001b[0m \u001b[0mmylocals\u001b[0m\u001b[1;33m)\u001b[0m\u001b[1;33m\u001b[0m\u001b[0m\n\u001b[0m\u001b[0;32m    401\u001b[0m \u001b[1;33m\u001b[0m\u001b[0m\n\u001b[0;32m    402\u001b[0m     \u001b[1;32mdef\u001b[0m \u001b[0mraise_\u001b[0m\u001b[1;33m(\u001b[0m\u001b[0mtp\u001b[0m\u001b[1;33m,\u001b[0m \u001b[0mvalue\u001b[0m\u001b[1;33m=\u001b[0m\u001b[1;32mNone\u001b[0m\u001b[1;33m,\u001b[0m \u001b[0mtb\u001b[0m\u001b[1;33m=\u001b[0m\u001b[1;32mNone\u001b[0m\u001b[1;33m)\u001b[0m\u001b[1;33m:\u001b[0m\u001b[1;33m\u001b[0m\u001b[0m\n",
      "\u001b[1;32me:\\python\\lib\\site-packages\\yeelight\\main.py\u001b[0m in \u001b[0;36m<module>\u001b[1;34m\u001b[0m\n",
      "\u001b[1;31mBulbException\u001b[0m: A socket error occurred when sending the command."
     ]
    }
   ],
   "source": [
    "#02 控制开关(ab按钮)\n",
    "from yeelight import Bulb\n",
    "import time\n",
    "bulb = Bulb(\"192.168.31.39\")\n",
    "#打开灯泡\n",
    "bulb.turn_on()\n",
    "time.sleep(2)\n",
    "#关闭灯泡\n",
    "bulb.turn_off()\n",
    "time.sleep(2)"
   ]
  },
  {
   "cell_type": "code",
   "execution_count": 4,
   "metadata": {},
   "outputs": [
    {
     "ename": "BulbException",
     "evalue": "A socket error occurred when sending the command.",
     "output_type": "error",
     "traceback": [
      "\u001b[1;31m---------------------------------------------------------------------------\u001b[0m",
      "\u001b[1;31mtimeout\u001b[0m                                   Traceback (most recent call last)",
      "\u001b[1;32me:\\python\\lib\\site-packages\\yeelight\\main.py\u001b[0m in \u001b[0;36msend_command\u001b[1;34m(self, method, params)\u001b[0m\n\u001b[0;32m    389\u001b[0m         \u001b[1;32mtry\u001b[0m\u001b[1;33m:\u001b[0m\u001b[1;33m\u001b[0m\u001b[0m\n\u001b[1;32m--> 390\u001b[1;33m             \u001b[0mself\u001b[0m\u001b[1;33m.\u001b[0m\u001b[0m_socket\u001b[0m\u001b[1;33m.\u001b[0m\u001b[0msend\u001b[0m\u001b[1;33m(\u001b[0m\u001b[1;33m(\u001b[0m\u001b[0mjson\u001b[0m\u001b[1;33m.\u001b[0m\u001b[0mdumps\u001b[0m\u001b[1;33m(\u001b[0m\u001b[0mcommand\u001b[0m\u001b[1;33m)\u001b[0m \u001b[1;33m+\u001b[0m \u001b[1;34m\"\\r\\n\"\u001b[0m\u001b[1;33m)\u001b[0m\u001b[1;33m.\u001b[0m\u001b[0mencode\u001b[0m\u001b[1;33m(\u001b[0m\u001b[1;34m\"utf8\"\u001b[0m\u001b[1;33m)\u001b[0m\u001b[1;33m)\u001b[0m\u001b[1;33m\u001b[0m\u001b[0m\n\u001b[0m\u001b[0;32m    391\u001b[0m         \u001b[1;32mexcept\u001b[0m \u001b[0msocket\u001b[0m\u001b[1;33m.\u001b[0m\u001b[0merror\u001b[0m \u001b[1;32mas\u001b[0m \u001b[0mex\u001b[0m\u001b[1;33m:\u001b[0m\u001b[1;33m\u001b[0m\u001b[0m\n",
      "\u001b[1;32me:\\python\\lib\\site-packages\\yeelight\\main.py\u001b[0m in \u001b[0;36m_socket\u001b[1;34m(self)\u001b[0m\n\u001b[0;32m    249\u001b[0m             \u001b[0mself\u001b[0m\u001b[1;33m.\u001b[0m\u001b[0m__socket\u001b[0m\u001b[1;33m.\u001b[0m\u001b[0msettimeout\u001b[0m\u001b[1;33m(\u001b[0m\u001b[1;36m5\u001b[0m\u001b[1;33m)\u001b[0m\u001b[1;33m\u001b[0m\u001b[0m\n\u001b[1;32m--> 250\u001b[1;33m             \u001b[0mself\u001b[0m\u001b[1;33m.\u001b[0m\u001b[0m__socket\u001b[0m\u001b[1;33m.\u001b[0m\u001b[0mconnect\u001b[0m\u001b[1;33m(\u001b[0m\u001b[1;33m(\u001b[0m\u001b[0mself\u001b[0m\u001b[1;33m.\u001b[0m\u001b[0m_ip\u001b[0m\u001b[1;33m,\u001b[0m \u001b[0mself\u001b[0m\u001b[1;33m.\u001b[0m\u001b[0m_port\u001b[0m\u001b[1;33m)\u001b[0m\u001b[1;33m)\u001b[0m\u001b[1;33m\u001b[0m\u001b[0m\n\u001b[0m\u001b[0;32m    251\u001b[0m         \u001b[1;32mreturn\u001b[0m \u001b[0mself\u001b[0m\u001b[1;33m.\u001b[0m\u001b[0m__socket\u001b[0m\u001b[1;33m\u001b[0m\u001b[0m\n",
      "\u001b[1;31mtimeout\u001b[0m: timed out",
      "\nThe above exception was the direct cause of the following exception:\n",
      "\u001b[1;31mBulbException\u001b[0m                             Traceback (most recent call last)",
      "\u001b[1;32m<ipython-input-4-a1a2112216e5>\u001b[0m in \u001b[0;36m<module>\u001b[1;34m\u001b[0m\n\u001b[0;32m      3\u001b[0m \u001b[1;32mimport\u001b[0m \u001b[0mtime\u001b[0m\u001b[1;33m\u001b[0m\u001b[0m\n\u001b[0;32m      4\u001b[0m \u001b[0mbulb\u001b[0m \u001b[1;33m=\u001b[0m \u001b[0mBulb\u001b[0m\u001b[1;33m(\u001b[0m\u001b[1;34m\"192.168.31.39\"\u001b[0m\u001b[1;33m)\u001b[0m\u001b[1;33m\u001b[0m\u001b[0m\n\u001b[1;32m----> 5\u001b[1;33m \u001b[0mbulb\u001b[0m\u001b[1;33m.\u001b[0m\u001b[0mturn_on\u001b[0m\u001b[1;33m(\u001b[0m\u001b[1;33m)\u001b[0m\u001b[1;33m\u001b[0m\u001b[0m\n\u001b[0m\u001b[0;32m      6\u001b[0m \u001b[1;31m#当前亮度\u001b[0m\u001b[1;33m\u001b[0m\u001b[1;33m\u001b[0m\u001b[0m\n\u001b[0;32m      7\u001b[0m \u001b[0mlevel\u001b[0m\u001b[1;33m=\u001b[0m\u001b[1;36m0\u001b[0m\u001b[1;33m\u001b[0m\u001b[0m\n",
      "\u001b[1;32m<decorator-gen-7>\u001b[0m in \u001b[0;36mturn_on\u001b[1;34m(self, light_type, **kwargs)\u001b[0m\n",
      "\u001b[1;32me:\\python\\lib\\site-packages\\yeelight\\main.py\u001b[0m in \u001b[0;36m_command\u001b[1;34m(f, *args, **kw)\u001b[0m\n\u001b[0;32m    109\u001b[0m             \u001b[0mparams\u001b[0m \u001b[1;33m+=\u001b[0m \u001b[1;33m[\u001b[0m\u001b[0mpower_mode\u001b[0m\u001b[1;33m.\u001b[0m\u001b[0mvalue\u001b[0m\u001b[1;33m]\u001b[0m\u001b[1;33m\u001b[0m\u001b[0m\n\u001b[0;32m    110\u001b[0m \u001b[1;33m\u001b[0m\u001b[0m\n\u001b[1;32m--> 111\u001b[1;33m     \u001b[0mresult\u001b[0m \u001b[1;33m=\u001b[0m \u001b[0mself\u001b[0m\u001b[1;33m.\u001b[0m\u001b[0msend_command\u001b[0m\u001b[1;33m(\u001b[0m\u001b[0mmethod\u001b[0m\u001b[1;33m,\u001b[0m \u001b[0mparams\u001b[0m\u001b[1;33m)\u001b[0m\u001b[1;33m.\u001b[0m\u001b[0mget\u001b[0m\u001b[1;33m(\u001b[0m\u001b[1;34m\"result\"\u001b[0m\u001b[1;33m,\u001b[0m \u001b[1;33m[\u001b[0m\u001b[1;33m]\u001b[0m\u001b[1;33m)\u001b[0m\u001b[1;33m\u001b[0m\u001b[0m\n\u001b[0m\u001b[0;32m    112\u001b[0m     \u001b[1;32mif\u001b[0m \u001b[0mresult\u001b[0m\u001b[1;33m:\u001b[0m\u001b[1;33m\u001b[0m\u001b[0m\n\u001b[0;32m    113\u001b[0m         \u001b[1;32mreturn\u001b[0m \u001b[0mresult\u001b[0m\u001b[1;33m[\u001b[0m\u001b[1;36m0\u001b[0m\u001b[1;33m]\u001b[0m\u001b[1;33m\u001b[0m\u001b[0m\n",
      "\u001b[1;32me:\\python\\lib\\site-packages\\yeelight\\main.py\u001b[0m in \u001b[0;36msend_command\u001b[1;34m(self, method, params)\u001b[0m\n\u001b[0;32m    394\u001b[0m             \u001b[0mself\u001b[0m\u001b[1;33m.\u001b[0m\u001b[0m__socket\u001b[0m\u001b[1;33m.\u001b[0m\u001b[0mclose\u001b[0m\u001b[1;33m(\u001b[0m\u001b[1;33m)\u001b[0m\u001b[1;33m\u001b[0m\u001b[0m\n\u001b[0;32m    395\u001b[0m             \u001b[0mself\u001b[0m\u001b[1;33m.\u001b[0m\u001b[0m__socket\u001b[0m \u001b[1;33m=\u001b[0m \u001b[1;32mNone\u001b[0m\u001b[1;33m\u001b[0m\u001b[0m\n\u001b[1;32m--> 396\u001b[1;33m             \u001b[0mraise_from\u001b[0m\u001b[1;33m(\u001b[0m\u001b[0mBulbException\u001b[0m\u001b[1;33m(\u001b[0m\u001b[1;34m\"A socket error occurred when sending the command.\"\u001b[0m\u001b[1;33m)\u001b[0m\u001b[1;33m,\u001b[0m \u001b[0mex\u001b[0m\u001b[1;33m)\u001b[0m\u001b[1;33m\u001b[0m\u001b[0m\n\u001b[0m\u001b[0;32m    397\u001b[0m \u001b[1;33m\u001b[0m\u001b[0m\n\u001b[0;32m    398\u001b[0m         \u001b[1;32mif\u001b[0m \u001b[0mself\u001b[0m\u001b[1;33m.\u001b[0m\u001b[0m_music_mode\u001b[0m\u001b[1;33m:\u001b[0m\u001b[1;33m\u001b[0m\u001b[0m\n",
      "\u001b[1;32me:\\python\\lib\\site-packages\\future\\utils\\__init__.py\u001b[0m in \u001b[0;36mraise_from\u001b[1;34m(exc, cause)\u001b[0m\n\u001b[0;32m    398\u001b[0m         \u001b[0mmyglobals\u001b[0m\u001b[1;33m[\u001b[0m\u001b[1;34m'__python_future_raise_from_cause'\u001b[0m\u001b[1;33m]\u001b[0m \u001b[1;33m=\u001b[0m \u001b[0mcause\u001b[0m\u001b[1;33m\u001b[0m\u001b[0m\n\u001b[0;32m    399\u001b[0m         \u001b[0mexecstr\u001b[0m \u001b[1;33m=\u001b[0m \u001b[1;34m\"raise __python_future_raise_from_exc from __python_future_raise_from_cause\"\u001b[0m\u001b[1;33m\u001b[0m\u001b[0m\n\u001b[1;32m--> 400\u001b[1;33m         \u001b[0mexec\u001b[0m\u001b[1;33m(\u001b[0m\u001b[0mexecstr\u001b[0m\u001b[1;33m,\u001b[0m \u001b[0mmyglobals\u001b[0m\u001b[1;33m,\u001b[0m \u001b[0mmylocals\u001b[0m\u001b[1;33m)\u001b[0m\u001b[1;33m\u001b[0m\u001b[0m\n\u001b[0m\u001b[0;32m    401\u001b[0m \u001b[1;33m\u001b[0m\u001b[0m\n\u001b[0;32m    402\u001b[0m     \u001b[1;32mdef\u001b[0m \u001b[0mraise_\u001b[0m\u001b[1;33m(\u001b[0m\u001b[0mtp\u001b[0m\u001b[1;33m,\u001b[0m \u001b[0mvalue\u001b[0m\u001b[1;33m=\u001b[0m\u001b[1;32mNone\u001b[0m\u001b[1;33m,\u001b[0m \u001b[0mtb\u001b[0m\u001b[1;33m=\u001b[0m\u001b[1;32mNone\u001b[0m\u001b[1;33m)\u001b[0m\u001b[1;33m:\u001b[0m\u001b[1;33m\u001b[0m\u001b[0m\n",
      "\u001b[1;32me:\\python\\lib\\site-packages\\yeelight\\main.py\u001b[0m in \u001b[0;36m<module>\u001b[1;34m\u001b[0m\n",
      "\u001b[1;31mBulbException\u001b[0m: A socket error occurred when sending the command."
     ]
    }
   ],
   "source": [
    "#03 控制亮度(触摸键)\n",
    "from yeelight import Bulb\n",
    "import time\n",
    "bulb = Bulb(\"192.168.31.39\")\n",
    "bulb.turn_on()\n",
    "#当前亮度\n",
    "level=0\n",
    "#每次增加的亮度间隔（不宜过大）\n",
    "interval=10\n",
    "while True:\n",
    "    bulb.set_brightness(level)\n",
    "    level=level+interval\n",
    "    time.sleep(1)\n",
    "    print(level)\n",
    "    if level>=100 or level<=0:\n",
    "        interval=-interval\n",
    "bulb = Bulb(\"192.168.31.39\", effect=\"smooth\", duration=1000)\n",
    "#补充：效果控制指灯泡从一种状态变为另一种状态，是马上变化还是逐步变化，以及逐渐变化需多长时间。effect参数为：smooth和sudden。duration为变化所需的时间：单位为毫秒\n",
    "\n"
   ]
  },
  {
   "cell_type": "code",
   "execution_count": 5,
   "metadata": {},
   "outputs": [
    {
     "ename": "BulbException",
     "evalue": "A socket error occurred when sending the command.",
     "output_type": "error",
     "traceback": [
      "\u001b[1;31m---------------------------------------------------------------------------\u001b[0m",
      "\u001b[1;31mtimeout\u001b[0m                                   Traceback (most recent call last)",
      "\u001b[1;32me:\\python\\lib\\site-packages\\yeelight\\main.py\u001b[0m in \u001b[0;36msend_command\u001b[1;34m(self, method, params)\u001b[0m\n\u001b[0;32m    389\u001b[0m         \u001b[1;32mtry\u001b[0m\u001b[1;33m:\u001b[0m\u001b[1;33m\u001b[0m\u001b[0m\n\u001b[1;32m--> 390\u001b[1;33m             \u001b[0mself\u001b[0m\u001b[1;33m.\u001b[0m\u001b[0m_socket\u001b[0m\u001b[1;33m.\u001b[0m\u001b[0msend\u001b[0m\u001b[1;33m(\u001b[0m\u001b[1;33m(\u001b[0m\u001b[0mjson\u001b[0m\u001b[1;33m.\u001b[0m\u001b[0mdumps\u001b[0m\u001b[1;33m(\u001b[0m\u001b[0mcommand\u001b[0m\u001b[1;33m)\u001b[0m \u001b[1;33m+\u001b[0m \u001b[1;34m\"\\r\\n\"\u001b[0m\u001b[1;33m)\u001b[0m\u001b[1;33m.\u001b[0m\u001b[0mencode\u001b[0m\u001b[1;33m(\u001b[0m\u001b[1;34m\"utf8\"\u001b[0m\u001b[1;33m)\u001b[0m\u001b[1;33m)\u001b[0m\u001b[1;33m\u001b[0m\u001b[0m\n\u001b[0m\u001b[0;32m    391\u001b[0m         \u001b[1;32mexcept\u001b[0m \u001b[0msocket\u001b[0m\u001b[1;33m.\u001b[0m\u001b[0merror\u001b[0m \u001b[1;32mas\u001b[0m \u001b[0mex\u001b[0m\u001b[1;33m:\u001b[0m\u001b[1;33m\u001b[0m\u001b[0m\n",
      "\u001b[1;32me:\\python\\lib\\site-packages\\yeelight\\main.py\u001b[0m in \u001b[0;36m_socket\u001b[1;34m(self)\u001b[0m\n\u001b[0;32m    249\u001b[0m             \u001b[0mself\u001b[0m\u001b[1;33m.\u001b[0m\u001b[0m__socket\u001b[0m\u001b[1;33m.\u001b[0m\u001b[0msettimeout\u001b[0m\u001b[1;33m(\u001b[0m\u001b[1;36m5\u001b[0m\u001b[1;33m)\u001b[0m\u001b[1;33m\u001b[0m\u001b[0m\n\u001b[1;32m--> 250\u001b[1;33m             \u001b[0mself\u001b[0m\u001b[1;33m.\u001b[0m\u001b[0m__socket\u001b[0m\u001b[1;33m.\u001b[0m\u001b[0mconnect\u001b[0m\u001b[1;33m(\u001b[0m\u001b[1;33m(\u001b[0m\u001b[0mself\u001b[0m\u001b[1;33m.\u001b[0m\u001b[0m_ip\u001b[0m\u001b[1;33m,\u001b[0m \u001b[0mself\u001b[0m\u001b[1;33m.\u001b[0m\u001b[0m_port\u001b[0m\u001b[1;33m)\u001b[0m\u001b[1;33m)\u001b[0m\u001b[1;33m\u001b[0m\u001b[0m\n\u001b[0m\u001b[0;32m    251\u001b[0m         \u001b[1;32mreturn\u001b[0m \u001b[0mself\u001b[0m\u001b[1;33m.\u001b[0m\u001b[0m__socket\u001b[0m\u001b[1;33m\u001b[0m\u001b[0m\n",
      "\u001b[1;31mtimeout\u001b[0m: timed out",
      "\nThe above exception was the direct cause of the following exception:\n",
      "\u001b[1;31mBulbException\u001b[0m                             Traceback (most recent call last)",
      "\u001b[1;32m<ipython-input-5-34f2e6ca981c>\u001b[0m in \u001b[0;36m<module>\u001b[1;34m\u001b[0m\n\u001b[0;32m      4\u001b[0m \u001b[0mbulb\u001b[0m \u001b[1;33m=\u001b[0m \u001b[0mBulb\u001b[0m\u001b[1;33m(\u001b[0m\u001b[1;34m\"192.168.31.39\"\u001b[0m\u001b[1;33m)\u001b[0m\u001b[1;33m\u001b[0m\u001b[0m\n\u001b[0;32m      5\u001b[0m \u001b[1;31m# RGB控制方式，R（红），G（绿），B（蓝）\u001b[0m\u001b[1;33m\u001b[0m\u001b[1;33m\u001b[0m\u001b[0m\n\u001b[1;32m----> 6\u001b[1;33m \u001b[0mbulb\u001b[0m\u001b[1;33m.\u001b[0m\u001b[0mset_rgb\u001b[0m\u001b[1;33m(\u001b[0m\u001b[1;36m255\u001b[0m\u001b[1;33m,\u001b[0m \u001b[1;36m0\u001b[0m\u001b[1;33m,\u001b[0m \u001b[1;36m0\u001b[0m\u001b[1;33m)\u001b[0m\u001b[1;33m\u001b[0m\u001b[0m\n\u001b[0m\u001b[0;32m      7\u001b[0m \u001b[0mtime\u001b[0m\u001b[1;33m.\u001b[0m\u001b[0msleep\u001b[0m\u001b[1;33m(\u001b[0m\u001b[1;36m1\u001b[0m\u001b[1;33m)\u001b[0m\u001b[1;33m\u001b[0m\u001b[0m\n\u001b[0;32m      8\u001b[0m \u001b[1;31m# HSV控制方式，色调（H），饱和度（S），明度（V）\u001b[0m\u001b[1;33m\u001b[0m\u001b[1;33m\u001b[0m\u001b[0m\n",
      "\u001b[1;32m<decorator-gen-3>\u001b[0m in \u001b[0;36mset_rgb\u001b[1;34m(self, red, green, blue, light_type, **kwargs)\u001b[0m\n",
      "\u001b[1;32me:\\python\\lib\\site-packages\\yeelight\\main.py\u001b[0m in \u001b[0;36m_command\u001b[1;34m(f, *args, **kw)\u001b[0m\n\u001b[0;32m    109\u001b[0m             \u001b[0mparams\u001b[0m \u001b[1;33m+=\u001b[0m \u001b[1;33m[\u001b[0m\u001b[0mpower_mode\u001b[0m\u001b[1;33m.\u001b[0m\u001b[0mvalue\u001b[0m\u001b[1;33m]\u001b[0m\u001b[1;33m\u001b[0m\u001b[0m\n\u001b[0;32m    110\u001b[0m \u001b[1;33m\u001b[0m\u001b[0m\n\u001b[1;32m--> 111\u001b[1;33m     \u001b[0mresult\u001b[0m \u001b[1;33m=\u001b[0m \u001b[0mself\u001b[0m\u001b[1;33m.\u001b[0m\u001b[0msend_command\u001b[0m\u001b[1;33m(\u001b[0m\u001b[0mmethod\u001b[0m\u001b[1;33m,\u001b[0m \u001b[0mparams\u001b[0m\u001b[1;33m)\u001b[0m\u001b[1;33m.\u001b[0m\u001b[0mget\u001b[0m\u001b[1;33m(\u001b[0m\u001b[1;34m\"result\"\u001b[0m\u001b[1;33m,\u001b[0m \u001b[1;33m[\u001b[0m\u001b[1;33m]\u001b[0m\u001b[1;33m)\u001b[0m\u001b[1;33m\u001b[0m\u001b[0m\n\u001b[0m\u001b[0;32m    112\u001b[0m     \u001b[1;32mif\u001b[0m \u001b[0mresult\u001b[0m\u001b[1;33m:\u001b[0m\u001b[1;33m\u001b[0m\u001b[0m\n\u001b[0;32m    113\u001b[0m         \u001b[1;32mreturn\u001b[0m \u001b[0mresult\u001b[0m\u001b[1;33m[\u001b[0m\u001b[1;36m0\u001b[0m\u001b[1;33m]\u001b[0m\u001b[1;33m\u001b[0m\u001b[0m\n",
      "\u001b[1;32me:\\python\\lib\\site-packages\\yeelight\\main.py\u001b[0m in \u001b[0;36msend_command\u001b[1;34m(self, method, params)\u001b[0m\n\u001b[0;32m    394\u001b[0m             \u001b[0mself\u001b[0m\u001b[1;33m.\u001b[0m\u001b[0m__socket\u001b[0m\u001b[1;33m.\u001b[0m\u001b[0mclose\u001b[0m\u001b[1;33m(\u001b[0m\u001b[1;33m)\u001b[0m\u001b[1;33m\u001b[0m\u001b[0m\n\u001b[0;32m    395\u001b[0m             \u001b[0mself\u001b[0m\u001b[1;33m.\u001b[0m\u001b[0m__socket\u001b[0m \u001b[1;33m=\u001b[0m \u001b[1;32mNone\u001b[0m\u001b[1;33m\u001b[0m\u001b[0m\n\u001b[1;32m--> 396\u001b[1;33m             \u001b[0mraise_from\u001b[0m\u001b[1;33m(\u001b[0m\u001b[0mBulbException\u001b[0m\u001b[1;33m(\u001b[0m\u001b[1;34m\"A socket error occurred when sending the command.\"\u001b[0m\u001b[1;33m)\u001b[0m\u001b[1;33m,\u001b[0m \u001b[0mex\u001b[0m\u001b[1;33m)\u001b[0m\u001b[1;33m\u001b[0m\u001b[0m\n\u001b[0m\u001b[0;32m    397\u001b[0m \u001b[1;33m\u001b[0m\u001b[0m\n\u001b[0;32m    398\u001b[0m         \u001b[1;32mif\u001b[0m \u001b[0mself\u001b[0m\u001b[1;33m.\u001b[0m\u001b[0m_music_mode\u001b[0m\u001b[1;33m:\u001b[0m\u001b[1;33m\u001b[0m\u001b[0m\n",
      "\u001b[1;32me:\\python\\lib\\site-packages\\future\\utils\\__init__.py\u001b[0m in \u001b[0;36mraise_from\u001b[1;34m(exc, cause)\u001b[0m\n\u001b[0;32m    398\u001b[0m         \u001b[0mmyglobals\u001b[0m\u001b[1;33m[\u001b[0m\u001b[1;34m'__python_future_raise_from_cause'\u001b[0m\u001b[1;33m]\u001b[0m \u001b[1;33m=\u001b[0m \u001b[0mcause\u001b[0m\u001b[1;33m\u001b[0m\u001b[0m\n\u001b[0;32m    399\u001b[0m         \u001b[0mexecstr\u001b[0m \u001b[1;33m=\u001b[0m \u001b[1;34m\"raise __python_future_raise_from_exc from __python_future_raise_from_cause\"\u001b[0m\u001b[1;33m\u001b[0m\u001b[0m\n\u001b[1;32m--> 400\u001b[1;33m         \u001b[0mexec\u001b[0m\u001b[1;33m(\u001b[0m\u001b[0mexecstr\u001b[0m\u001b[1;33m,\u001b[0m \u001b[0mmyglobals\u001b[0m\u001b[1;33m,\u001b[0m \u001b[0mmylocals\u001b[0m\u001b[1;33m)\u001b[0m\u001b[1;33m\u001b[0m\u001b[0m\n\u001b[0m\u001b[0;32m    401\u001b[0m \u001b[1;33m\u001b[0m\u001b[0m\n\u001b[0;32m    402\u001b[0m     \u001b[1;32mdef\u001b[0m \u001b[0mraise_\u001b[0m\u001b[1;33m(\u001b[0m\u001b[0mtp\u001b[0m\u001b[1;33m,\u001b[0m \u001b[0mvalue\u001b[0m\u001b[1;33m=\u001b[0m\u001b[1;32mNone\u001b[0m\u001b[1;33m,\u001b[0m \u001b[0mtb\u001b[0m\u001b[1;33m=\u001b[0m\u001b[1;32mNone\u001b[0m\u001b[1;33m)\u001b[0m\u001b[1;33m:\u001b[0m\u001b[1;33m\u001b[0m\u001b[0m\n",
      "\u001b[1;32me:\\python\\lib\\site-packages\\yeelight\\main.py\u001b[0m in \u001b[0;36m<module>\u001b[1;34m\u001b[0m\n",
      "\u001b[1;31mBulbException\u001b[0m: A socket error occurred when sending the command."
     ]
    }
   ],
   "source": [
    "#04 改变颜色 (按钮加触摸键)\n",
    "from yeelight import Bulb\n",
    "import time\n",
    "bulb = Bulb(\"192.168.31.39\")\n",
    "# RGB控制方式，R（红），G（绿），B（蓝）\n",
    "bulb.set_rgb(255, 0, 0)\n",
    "time.sleep(1)\n",
    "# HSV控制方式，色调（H），饱和度（S），明度（V）\n",
    "bulb.set_hsv(320, 100, 50)\n",
    "time.sleep(1)\n",
    "# HSV控制方式中，明度可以省略\n",
    "bulb.set_hsv(320, 100)\n",
    "time.sleep(1)\n",
    "# 色温控制方式（K），白织灯2800，日光5600，紫光灯9000，标准白色光6500\n",
    "# 小于3000是温暖（带红的白色），大于5000是冷（带蓝的白色），中间（白色）\n",
    "bulb.set_color_temp(4700)\n",
    "time.sleep(1)\n",
    "# 保存当前颜色为默认设置\n",
    "bulb.set_default()"
   ]
  },
  {
   "cell_type": "code",
   "execution_count": 14,
   "metadata": {},
   "outputs": [
    {
     "ename": "NameError",
     "evalue": "name 'bulb' is not defined",
     "output_type": "error",
     "traceback": [
      "\u001b[1;31m---------------------------------------------------------------------------\u001b[0m",
      "\u001b[1;31mNameError\u001b[0m                                 Traceback (most recent call last)",
      "\u001b[1;32m<ipython-input-14-4ad6541c2b51>\u001b[0m in \u001b[0;36m<module>\u001b[1;34m\u001b[0m\n\u001b[0;32m      1\u001b[0m \u001b[1;31m#05 手势控制\u001b[0m\u001b[1;33m\u001b[0m\u001b[1;33m\u001b[0m\u001b[0m\n\u001b[1;32m----> 2\u001b[1;33m \u001b[0mbulb\u001b[0m\u001b[1;33m.\u001b[0m\u001b[0mtoggle\u001b[0m\u001b[1;33m(\u001b[0m\u001b[1;33m)\u001b[0m               \u001b[1;31m# 翻转\u001b[0m\u001b[1;33m\u001b[0m\u001b[0m\n\u001b[0m\u001b[0;32m      3\u001b[0m \u001b[0msleep\u001b[0m\u001b[1;33m(\u001b[0m\u001b[1;36m2\u001b[0m\u001b[1;33m)\u001b[0m\u001b[1;33m\u001b[0m\u001b[0m\n",
      "\u001b[1;31mNameError\u001b[0m: name 'bulb' is not defined"
     ]
    }
   ],
   "source": [
    "#05 手势控制\n",
    "from yeelight import Bulb\n",
    "bulb = Bulb(\"192.168.31.39\")\n",
    "bulb.toggle()               # 翻转\n",
    "sleep(2)"
   ]
  },
  {
   "cell_type": "code",
   "execution_count": 16,
   "metadata": {},
   "outputs": [
    {
     "ename": "SyntaxError",
     "evalue": "invalid syntax (<ipython-input-16-969563a7626d>, line 4)",
     "output_type": "error",
     "traceback": [
      "\u001b[1;36m  File \u001b[1;32m\"<ipython-input-16-969563a7626d>\"\u001b[1;36m, line \u001b[1;32m4\u001b[0m\n\u001b[1;33m    [mw_shl_code=python,true]import time           #时间库\u001b[0m\n\u001b[1;37m                ^\u001b[0m\n\u001b[1;31mSyntaxError\u001b[0m\u001b[1;31m:\u001b[0m invalid syntax\n"
     ]
    }
   ],
   "source": [
    "#06 声音控制\n",
    "\n",
    "from mpython import * #掌控库\n",
    "[mw_shl_code=python,true]import time           #时间库\n",
    "a=0\n",
    "while True:\n",
    "    display.fill(0)   #清屏 \n",
    "    display.DispChar(\"声音:\",0,45)    #显示声音到0，45\n",
    "    display.text(\"%d\" % (sound.read()),48,50) #显示板载声音传感器数值\n",
    "    display.show()     #刷新\n",
    "    if sound.read() < 60:\n",
    "        rgb[0] = (0,0,0)   \n",
    "        rgb[1] = (0,0,0) \n",
    "        rgb[2] = (0,0,0)  \n",
    "        rgb.write()\n",
    "    else:\n",
    "        if sound.read() <120:\n",
    "            rgb[0] = (0,0,255)    # 设置蓝色\n",
    "            rgb[1] = (0,0,255)  # 设定为蓝色\n",
    "            rgb[2] = (0,0,255)   # 设置为蓝色\n",
    "            rgb.write()  \n",
    "        else:\n",
    "            if sound.read() <400:\n",
    "                rgb[0] = (0,255,0)    # 设置绿色\n",
    "                rgb[1] = (0,255,0)  # 设定为绿色\n",
    "                rgb[2] = (0,255,0)   # 设置为绿色\n",
    "                rgb.write()\n",
    "            else:\n",
    "                if sound.read() <2000:\n",
    "                    rgb[0] = (255,0,0)    # 设置红色\n",
    "                    rgb[1] = (255,0,0)  # 设定为红色\n",
    "                    rgb[2] = (255,0,0)   # 设置为红色\n",
    "                    rgb.write()\n",
    " \n",
    "    time.sleep_ms(20)"
   ]
  },
  {
   "cell_type": "code",
   "execution_count": null,
   "metadata": {},
   "outputs": [],
   "source": [
    "#07 精确控制\n",
    "\n",
    "#用户输入颜色数值\n",
    "def input():\n",
    "  while True:\n",
    "    #初始化变量\n",
    "    j=0\n",
    "    zero=[0,0,0,0,0,0,0,0,0]\n",
    "    name=['red1','red2','red3','green1','green2','green3','blue1','blue2','blue3']\n",
    "    \n",
    "    #设置数值(RGB)\n",
    "    while(j<9):\n",
    "      #显示当前数据的名称\n",
    "      oled.DispChar((name[j]), 38, 0)\n",
    "      #显示数值，在OLED上的数值必须为字符串\n",
    "      oled.DispChar(str(zero[j]), (38+(j%3)*12), 16)\n",
    "      oled.show()\n",
    "      \n",
    "      #按键A按下\n",
    "      if button_a.value() == 0:    \n",
    "        sleep_ms(100)\n",
    "        if button_a.value() == 0:\n",
    "          #增加数值\n",
    "          zero[j]=(zero[j]+1)%10\n",
    "          #保证每种颜色的第一位数不超过2\n",
    "          if j%3==0:\n",
    "            zero[j]=(zero[j]%3)\n",
    "          sleep_ms(20)\n",
    "          \n",
    "      #按键B按下\n",
    "      if button_b.value() == 0:    \n",
    "        sleep_ms(100)\n",
    "        if button_b.value()==0:\n",
    "          #每次\n",
    "          if j%3==2:\n",
    "            oled.fill(0)\n",
    "            oled.show()\n",
    "          #下一种颜色(red1到red2)\n",
    "          j=j+1\n",
    "    \n",
    "    #短暂显示用户给出的数值\n",
    "    red=(zero[0]*100+zero[1]*10+zero[2])\n",
    "    green=(zero[3]*100+zero[4]*10+zero[5])\n",
    "    blue=(zero[6]*100+zero[7]*10+zero[8])\n",
    "    oled.DispChar('red:%r'%max(0, min(255, red)), 15, 8)\n",
    "    oled.DispChar('green:%r'%max(0, min(255, green)), 15, 23)\n",
    "    oled.DispChar('blue:%r'%max(0, min(255, blue)), 15, 38)\n",
    "    oled.show()\n",
    "    sleep_ms(2000)\n",
    "    oled.fill(0)\n",
    "    oled.show()\n",
    "    break\n",
    "    \n",
    "  return red,green,blue\n",
    "\n",
    "while True:\n",
    "  \n",
    "  oled.DispChar('A键增加B键确认', 15, 8)\n",
    "  oled.DispChar('按下A键开始输入', 15, 23)\n",
    "  oled.DispChar('颜色范围在0-255', 15, 38)\n",
    "  oled.show()\n",
    "\n",
    "  #按下A键进入输入颜色界面\n",
    "  if button_a.value() == 0:\n",
    "    sleep_ms(20)\n",
    "    if button_a.value() == 0:\n",
    "      oled.fill(0)\n",
    "      oled.show()\n",
    "      r,g,b=input()\n",
    "      #传输颜色数值到灯泡  \n",
    "      bulb.set_rgb(int(r),int(g),int(b))\n",
    "      print('传输完成')"
   ]
  },
  {
   "cell_type": "code",
   "execution_count": null,
   "metadata": {},
   "outputs": [],
   "source": [
    "#08 网络互动\n",
    "\n",
    "from yeelight import Bulb\n",
    "import requests\n",
    "import json\n",
    "bulb = Bulb(\"192.168.199.142\")\n",
    "url = \"http://www.weather.com.cn/data/cityinfo/101210701.html\" # 天气网，温州\n",
    "\n",
    "\n",
    "r = requests.get(url)\n",
    "json_response = r.content.decode()  # 获取r的文本 就是一个json字符串\n",
    "# 将json字符串转换成dic字典对象\n",
    "dict_json = json.loads(json_response)\n",
    "weather=dict_json[\"weatherinfo\"][\"weather\"]\n",
    "print(weather)\n",
    "if weather.find(\"晴\")!=-1:\n",
    "    rgb='#FFFFFF'\n",
    "elif weather.find(\"云\")!=-1:\n",
    "    rgb='#00FFFF'\n",
    "elif weather.find(\"阴\")!=-1:\n",
    "    rgb='#B4B4B4'\n",
    "elif weather.find(\"雨\")!=-1:\n",
    "    rgb='#8080FF'\n",
    "else:\n",
    "    rgb='#FFFF00'\n",
    "red=int(rgb[1:3],16)\n",
    "green=int(rgb[3:5],16)\n",
    "blue=int(rgb[5:7],16)\n",
    "bulb.turn_on()\n",
    "bulb.set_rgb(red,green,blue)\n"
   ]
  }
 ],
 "metadata": {
  "kernelspec": {
   "display_name": "Python 3",
   "language": "python",
   "name": "python3"
  },
  "language_info": {
   "codemirror_mode": {
    "name": "ipython",
    "version": 3
   },
   "file_extension": ".py",
   "mimetype": "text/x-python",
   "name": "python",
   "nbconvert_exporter": "python",
   "pygments_lexer": "ipython3",
   "version": "3.5.1"
  }
 },
 "nbformat": 4,
 "nbformat_minor": 2
}
